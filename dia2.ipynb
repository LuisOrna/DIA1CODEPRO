{
 "cells": [
  {
   "cell_type": "code",
   "execution_count": 68,
   "id": "78b80893",
   "metadata": {},
   "outputs": [
    {
     "name": "stdout",
     "output_type": "stream",
     "text": [
      "Encontre una \"o\" \n"
     ]
    }
   ],
   "source": [
    "#Challenge 7 - 15m\n",
    "\n",
    "#Solicitar al usuario que ingrese una frase, para eso creo un variable \n",
    "frase = input('Ingrese una frase:')\n",
    "\n",
    "#Creo un consicionante para que imprima un mensaje cada vez que encuentre la letra 'o'\n",
    "for letra in frase:\n",
    "    if letra == 'o':\n",
    "        print('Encontre una \"o\" ')\n",
    "\n",
    "\n",
    "\n",
    "\n",
    "\n"
   ]
  },
  {
   "cell_type": "code",
   "execution_count": 64,
   "id": "25e35ee3",
   "metadata": {},
   "outputs": [
    {
     "name": "stdout",
     "output_type": "stream",
     "text": [
      "Mercedes\n",
      "VolksWagen\n",
      "Porche\n"
     ]
    }
   ],
   "source": [
    "#Challenge 6 - 20m\n",
    "#Recorrer los elementos de una lista de marcas e imprimir cada marca solamente si tiene 6 letras o más.\n",
    "\n",
    "#Creo la lista de marcas\n",
    "marcas_de_vehiculos = ['Mercedes', 'BMW', 'VolksWagen', 'Audi', 'Porche']\n",
    "\n",
    "#Recorro las marcas\n",
    "for marca in marcas_de_vehiculos:\n",
    "    \n",
    "    #creo una condicion si la palabra tiene 6 letras\n",
    "    if len(marca) >= 6:\n",
    "        #imprime solo los que cumplen con la condicion\n",
    "        print(marca)\n"
   ]
  },
  {
   "cell_type": "code",
   "execution_count": 60,
   "id": "ed523ed0",
   "metadata": {},
   "outputs": [
    {
     "name": "stdout",
     "output_type": "stream",
     "text": [
      "2\n",
      "4\n",
      "6\n",
      "8\n",
      "10\n",
      "12\n",
      "14\n",
      "16\n",
      "18\n",
      "20\n"
     ]
    }
   ],
   "source": [
    "#Challenge 5 - 20m\n",
    "#Escribir un programa que itere en un rango de 10 veces. Por cada iteracion multiplicar el iterador por dos e imprimir el resultado.\n",
    "\n",
    "# Genero una lista con los numeros que recorrera el iterador\n",
    "for i in range(1,11):\n",
    "    print(i*2)"
   ]
  },
  {
   "cell_type": "code",
   "execution_count": 47,
   "id": "549c01ca",
   "metadata": {},
   "outputs": [
    {
     "name": "stdout",
     "output_type": "stream",
     "text": [
      "Lunes\n",
      "Martes\n",
      "Miercoles\n",
      "Jueves\n",
      "Viernes\n"
     ]
    }
   ],
   "source": [
    "#Bucle iterativo\n",
    "\n",
    "dias_de_la_semana = ['Lunes', 'Martes', 'Miercoles', 'Jueves', 'Viernes']\n",
    "\n",
    "for dia in dias_de_la_semana:\n",
    "    print(dia)\n"
   ]
  },
  {
   "cell_type": "code",
   "execution_count": 44,
   "id": "480e9601",
   "metadata": {},
   "outputs": [
    {
     "name": "stdout",
     "output_type": "stream",
     "text": [
      "['lechuga', 'rabanito', 'pechuga', 'camarones', 'atun']\n",
      "se me olvido que faltaba carne ['lechuga', 'rabanito', 'pechuga', 'camarones', 'atun', 'carne']\n",
      "Modico el rabanito por la espinaca ['lechuga', 'espinaca', 'pechuga', 'camarones', 'atun', 'carne']\n",
      "decido no comprar pechuga ['lechuga', 'espinaca', 'camarones', 'atun', 'carne']\n"
     ]
    }
   ],
   "source": [
    "#Challenge 4 - 20m\n",
    "#Crear una lista de 5 elementos. Luego, seguir los siguientes pasos.\n",
    "\n",
    "#Agregar un elemento al final de la lista.\n",
    "\n",
    "#Modificar el segundo elemento.\n",
    "\n",
    "#Eliminar el tercer elemento.\n",
    "\n",
    "# Creo una lista de 5 elementos para hacer las comparas\n",
    "lista_de_compras = ['lechuga', 'rabanito', 'pechuga', 'camarones', 'atun']\n",
    "print(lista_de_compras)\n",
    "\n",
    "# Se me olvido que faltaba carne algo, agrego un elemento\n",
    "lista_de_compras.append('carne')\n",
    "print(f'se me olvido que faltaba carne {lista_de_compras}')\n",
    "\n",
    "# Verifico en la heladera y me doy cuenta que en realidad tengo rabanito, entonce modifico por espinca\n",
    "lista_de_compras[1] = 'espinaca'\n",
    "print(f'Modico el rabanito por la espinaca {lista_de_compras}')\n",
    "\n",
    "# La pechuca esta muy cara, entonces lo elimino de la lista\n",
    "lista_de_compras.pop(2)\n",
    "\n",
    "#Verifico la lista final \n",
    "print(f'decido no comprar pechuga {lista_de_compras}')\n",
    "\n",
    "\n"
   ]
  },
  {
   "cell_type": "code",
   "execution_count": 9,
   "id": "55dc5263",
   "metadata": {},
   "outputs": [
    {
     "name": "stdout",
     "output_type": "stream",
     "text": [
      "Juguito nomas\n"
     ]
    }
   ],
   "source": [
    "#Challenge 1 - 20m\n",
    "\n",
    "'''Escribe un programa que pregunte al usuario por su edad y determine si tiene edad suficiente para comprar y consumir alcohol.\n",
    "Si el usuario tiene mas de 18 pero menos de 21 impirmir \"Podes tomar pero no comprar\"\n",
    "Si el usuario tiene menos de 18 imprimir \"Juguito nomas\"\n",
    "Si el usuario tiene mas de 21 imprimir \"Hace lo que quieras\"'''\n",
    "\n",
    "# Defino la variable que se pedira al usuario\n",
    "edad_persona = int(input('Intriduzca su edad:'))\n",
    "\n",
    "#Creo las condiciones\n",
    "if edad_persona < 18:\n",
    "    print('Juguito nomas')\n",
    "elif edad_persona >= 21:\n",
    "    print(\"Hace lo que quieras\")\n",
    "else:\n",
    "    print('Puedes tomar pero no comprar')\n",
    "\n",
    "\n"
   ]
  },
  {
   "cell_type": "code",
   "execution_count": 35,
   "id": "f37caf02",
   "metadata": {},
   "outputs": [
    {
     "name": "stdout",
     "output_type": "stream",
     "text": [
      "La temperatura actual es 46.0 ° Celsius\n",
      "Ñamano mbae!\n"
     ]
    }
   ],
   "source": [
    "#Challenge 2 - 30m\n",
    "#Escribir un programa en el que se pregunte al usuario por una temperatura (en grados Celsius), imprima la temperatura escrita,\n",
    "# y luego clasificar la temperatura ingresada en los siguientes niveles:\n",
    "\n",
    "#Entre -10 y 18 grados, que imprima \"Fresquete\".\n",
    "#Entre 19 y 30 grados, que imprima \"Calor'i\".\n",
    "#Entre 31 y 45 grados, que imprima \"Hakuuuuuu\".\n",
    "#Para todo lo demás, imprimir \"Ñamano mba'e!\".\n",
    "\n",
    "\n",
    "#Creo la variable que temperatura cuyo valor se pedira al usuario\n",
    "temperatura_actual = float(input('cual es la temperatura actual?, favor indique el valor en grados Celsius:'))\n",
    "\n",
    "#Hago que se imprima la temperatura\n",
    "print (f\"La temperatura actual es {temperatura_actual} ° Celsius\")\n",
    "\n",
    "#Creo las condiciones\n",
    "if temperatura_actual <= 18 and temperatura_actual >= -10:\n",
    "    print('Fresquete')\n",
    "elif temperatura_actual >= 19 and temperatura_actual <= 30:\n",
    "    print(' Calor i ')\n",
    "elif temperatura_actual >= 31 and temperatura_actual <= 45:\n",
    "    print('Hakuuuu')\n",
    "else:\n",
    "    print('Ñamano mbae!')\n",
    "\n"
   ]
  },
  {
   "cell_type": "code",
   "execution_count": null,
   "id": "3e384e7c",
   "metadata": {},
   "outputs": [
    {
     "ename": "SyntaxError",
     "evalue": "invalid syntax (2653715459.py, line 17)",
     "output_type": "error",
     "traceback": [
      "\u001b[1;36m  Cell \u001b[1;32mIn[38], line 17\u001b[1;36m\u001b[0m\n\u001b[1;33m    break:\u001b[0m\n\u001b[1;37m         ^\u001b[0m\n\u001b[1;31mSyntaxError\u001b[0m\u001b[1;31m:\u001b[0m invalid syntax\n"
     ]
    }
   ],
   "source": [
    "#Challenge 3 - 20m\n",
    "#Escribir un programa que almacene una contraseña en una variable, y pregunte al usuario por la contraseña hasta que introduzca la contraseña \n",
    "# correcta.\n",
    "\n",
    "#Cuando el usuario ingrese la contrasena correcta, imprimir un mensaje secreto.\n",
    "\n",
    "#Creo la contraseña por medio de una variable y le asigno un valor\n",
    "#contraseña = 35\n",
    "\n",
    "#Creo la variable que va a pedir la contrasena al usuario\n",
    "# contraseña_usuario = input('Introduzca la contraseña de dos digitos:')\n",
    "\n",
    "#Creo el bucle para pedir la contrasena\n",
    "#while contraseña_usuario != contraseña:\n",
    "    print('Contraseña Incorrecta')\n",
    "\n",
    "    print('El mensaje secreto es: \"Paraguay es Genial\" ')\n",
    "    break:\n",
    "\n",
    "\n",
    "\n"
   ]
  }
 ],
 "metadata": {
  "kernelspec": {
   "display_name": "Python 3",
   "language": "python",
   "name": "python3"
  },
  "language_info": {
   "codemirror_mode": {
    "name": "ipython",
    "version": 3
   },
   "file_extension": ".py",
   "mimetype": "text/x-python",
   "name": "python",
   "nbconvert_exporter": "python",
   "pygments_lexer": "ipython3",
   "version": "3.13.1"
  }
 },
 "nbformat": 4,
 "nbformat_minor": 5
}
