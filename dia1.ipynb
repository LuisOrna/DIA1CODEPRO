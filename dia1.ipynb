{
 "cells": [
  {
   "cell_type": "code",
   "execution_count": 56,
   "id": "ec31e7d6",
   "metadata": {},
   "outputs": [
    {
     "name": "stdout",
     "output_type": "stream",
     "text": [
      "entonces \"tu Plan Ideal\" tendra las siguientes caracteristicas\n",
      "plan para: 2 personas\n",
      "que viven en: Asuncion\n",
      "quiero invertir: Gs. 500000 en mi salud\n",
      "Gracias por responder, en breve te enviaremos la mejor opcion para vos\n"
     ]
    }
   ],
   "source": [
    "#Challenge 5 - 15m\n",
    "#Escribir una funcion que nos pregunte las caracteriticas de un elemento a comprar e imprima el elemento con sus caracteristicas.\n",
    "\n",
    "\n",
    "#Creo una funcion con tres caracteristicas para un plan de salud define_tu_plan\n",
    "def define_tu_plan(cantidad_de_personas, ciudad, precio):\n",
    "    print(f'plan para: {cantidad_de_personas} personas')\n",
    "    print(f'que viven en: {ciudad}')\n",
    "    print(f'quiero invertir: {precio} en mi salud')\n",
    "\n",
    "#Doy mensaje previo a las caracteristicas\n",
    "print('entonces \"tu Plan Ideal\" tendra las siguientes caracteristicas')\n",
    "\n",
    "#Llamo a la funcion para confirmar las caracteristicas\n",
    "define_tu_plan(2, 'Asuncion', 'Gs. 500000')\n",
    "\n",
    "#Despedida\n",
    "print ('Gracias por responder, en breve te enviaremos la mejor opcion para vos')"
   ]
  },
  {
   "cell_type": "code",
   "execution_count": 40,
   "id": "115e6fa4",
   "metadata": {},
   "outputs": [
    {
     "name": "stdout",
     "output_type": "stream",
     "text": [
      "listo para cepillarse los dientes?\n",
      "Saque el cepillo de dientes\n",
      "Saque su crema dental\n",
      "Ponga crema sobre les celdas del cepillo dental\n",
      "humedesca el cepillo con un poco de agua\n",
      "comience a cepillar sus dientes utilizando el cepillo realizando reiterados movimientos circulares\n",
      "continue por espacio de entre 2 a 3 minutos\n",
      "enjuague su boca con abundante agua\n",
      "Higienise su cepillo con agua y guardelo\n",
      "Saque el cepillo de dientes\n",
      "Saque su crema dental\n",
      "Ponga crema sobre les celdas del cepillo dental\n",
      "humedesca el cepillo con un poco de agua\n",
      "comience a cepillar sus dientes utilizando el cepillo realizando reiterados movimientos circulares\n",
      "continue por espacio de entre 2 a 3 minutos\n",
      "enjuague su boca con abundante agua\n",
      "Higienise su cepillo con agua y guardelo\n",
      "Saque el cepillo de dientes\n",
      "Saque su crema dental\n",
      "Ponga crema sobre les celdas del cepillo dental\n",
      "humedesca el cepillo con un poco de agua\n",
      "comience a cepillar sus dientes utilizando el cepillo realizando reiterados movimientos circulares\n",
      "continue por espacio de entre 2 a 3 minutos\n",
      "enjuague su boca con abundante agua\n",
      "Higienise su cepillo con agua y guardelo\n"
     ]
    }
   ],
   "source": [
    "#Challenge 4 - 10m\n",
    "#Crear una función de un proceso que se les ocurra que tenga varios pasos.\n",
    "#Ejecutar la función 3 veces.\n",
    "\n",
    "#Defino la funcion, cepillarse\n",
    "def cepillarse_los_dientes():\n",
    "    print('Saque el cepillo de dientes')\n",
    "    print('Saque su crema dental')\n",
    "    print('Ponga crema sobre les celdas del cepillo dental')\n",
    "    print('humedesca el cepillo con un poco de agua')\n",
    "    print('comience a cepillar sus dientes utilizando el cepillo realizando reiterados movimientos circulares')\n",
    "    print('continue por espacio de entre 2 a 3 minutos')\n",
    "    print('enjuague su boca con abundante agua')\n",
    "    print('Higienise su cepillo con agua y guardelo')\n",
    "print('listo para cepillarse los dientes?')\n",
    "\n",
    "\n",
    "#llamo a la funcion para recibir instrucciones\n",
    "cepillarse_los_dientes()\n",
    "cepillarse_los_dientes()\n",
    "cepillarse_los_dientes()"
   ]
  },
  {
   "cell_type": "code",
   "execution_count": 36,
   "id": "cbec561b",
   "metadata": {},
   "outputs": [
    {
     "name": "stdout",
     "output_type": "stream",
     "text": [
      "El resultado es 15.5\n"
     ]
    }
   ],
   "source": [
    "# Challenge 3 - 10m\n",
    "# Solicitar al usuario ingresar dos números y almacenarlos en dos variables. Luego, imprimir la suma de los dos números.\n",
    "\n",
    "# Pido los valores a los usuarios\n",
    "numero_1 = float(input('Ingrese un numero: '))\n",
    "numero_2 = float(input('Ingrese otro numero: '))\n",
    "\n",
    "#Sumatoria \n",
    "suma_de_numeros = (numero_1) + (numero_2)\n",
    "\n",
    "\n",
    "#Mensaje final\n",
    "print(f'El resultado es {suma_de_numeros}')\n",
    "\n"
   ]
  },
  {
   "cell_type": "code",
   "execution_count": null,
   "id": "95ec53e7",
   "metadata": {},
   "outputs": [
    {
     "name": "stdout",
     "output_type": "stream",
     "text": [
      "Hola soy Nahir y mi apellido es Rolón. Mucho gusto.\n"
     ]
    }
   ],
   "source": [
    "'''Challenge 2 - 15m\n",
    "Asignar el nombre y el apellido de tu compañera/o a las variables nombre y apellido. Luego, imprimir una frase, utilizando las variables.\n",
    "EJEMPLO: \"Hola. Me llamo Claudia Melgarejo. Mucho gusto.\"'''\n",
    "\n",
    "#Asigno las varibles\n",
    "nombre = 'Nahir'\n",
    "apellido = 'Rolón'\n",
    "\n",
    "#Mensaje de saludo\n",
    "print(f'Hola soy {nombre} y mi apellido es {apellido}. Mucho gusto.')\n",
    "\n",
    "\n",
    "\n"
   ]
  },
  {
   "cell_type": "code",
   "execution_count": null,
   "id": "a136e035",
   "metadata": {},
   "outputs": [
    {
     "name": "stdout",
     "output_type": "stream",
     "text": [
      "30\n",
      "25\n"
     ]
    }
   ],
   "source": [
    "#Challenge 1\n",
    "'''Suma: asignar dos números en dos variables diferentes cantidad_de_manzanas y cantidad_de_naranjas. Luego sumar ambas variables en cantidad_de_frutas.\n",
    "Imprimir la última variable.\n",
    "\n",
    "Resta: asignar un valor numérico a la variable frutas_vendidas. Luego, asignar la resta entre cantidad_de_frutas y \n",
    "frutas_vendidas a la variable frutas_restantes. Imprimir la última variable.'''\n",
    "\n",
    "#Creo las variables\n",
    "cantidad_de_manzanas = 20\n",
    "cantidad_de_naranjas = 10\n",
    "frutas_vendidas = 5\n",
    "\n",
    "#Suma\n",
    "cantidad_de_frutas = cantidad_de_manzanas + cantidad_de_naranjas\n",
    "print(cantidad_de_frutas)\n",
    "\n",
    "#Resta\n",
    "frutas_restantes = cantidad_de_frutas - frutas_vendidas\n",
    "\n",
    "print(frutas_restantes)\n"
   ]
  },
  {
   "cell_type": "code",
   "execution_count": 23,
   "id": "5a449780",
   "metadata": {},
   "outputs": [
    {
     "name": "stdout",
     "output_type": "stream",
     "text": [
      " \"mango\" \n"
     ]
    }
   ],
   "source": [
    "fruta = ' \"mango\" '\n",
    "print(fruta)"
   ]
  },
  {
   "cell_type": "code",
   "execution_count": null,
   "id": "4547de93",
   "metadata": {},
   "outputs": [
    {
     "name": "stdout",
     "output_type": "stream",
     "text": [
      "Hola Mundo\n"
     ]
    }
   ],
   "source": [
    "print(\"Hola Mundo\")"
   ]
  }
 ],
 "metadata": {
  "kernelspec": {
   "display_name": "Python 3",
   "language": "python",
   "name": "python3"
  },
  "language_info": {
   "codemirror_mode": {
    "name": "ipython",
    "version": 3
   },
   "file_extension": ".py",
   "mimetype": "text/x-python",
   "name": "python",
   "nbconvert_exporter": "python",
   "pygments_lexer": "ipython3",
   "version": "3.13.1"
  }
 },
 "nbformat": 4,
 "nbformat_minor": 5
}
