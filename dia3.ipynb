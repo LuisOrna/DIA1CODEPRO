{
 "cells": [
  {
   "cell_type": "code",
   "execution_count": 39,
   "id": "a8504430",
   "metadata": {},
   "outputs": [],
   "source": [
    "#FUNCION PARA EVITAR QUE EL USUARIO INGRESE UNA PALABRA DEL NUMERO EXACTO DE LETRAS\n",
    "\n",
    "#Creo el pedido de elementos al usuario\n",
    "palabra = input('Ingrese palabra')\n",
    "numero = 5\n",
    "\n",
    "\n",
    "#Creo la funcion\n",
    "def comparador_de_palabras_y_numeros (palabra,numero):\n",
    "    #creo una variable donde se almacena el numero\n",
    "    cantidad_de_letras = len(palabra) #len es una funcion y me va a permitir contar las letras y convertir eso en un numero\n",
    "    #creo el condicional que va a poder comprobar las letras y el nnmero\n",
    "    if cantidad_de_letras != numero: \n",
    "        print('La palabra ingresada no tiene el numero correcto de letras')\n",
    "        palabra = input('Ingrese palabra')\n",
    "    else:\n",
    "        comparador_de_palabras_y_numeros(palabra, numero)\n",
    "\n"
   ]
  },
  {
   "cell_type": "code",
   "execution_count": null,
   "id": "9dd6ca0b",
   "metadata": {},
   "outputs": [],
   "source": [
    "# DEFINIR LA PALABRA A ENCONTAR\n",
    "palabra_a_encontar = 'seis'\n",
    "\n",
    "#Definir la cantidad de letras\n",
    "cantidad_de_letras = 5\n",
    "\n",
    "# Definir cantidad de intentos\n",
    "intentos = 5\n",
    "\n",
    "# Crear la grilla vacia, creo en forma de lista\n",
    "progreso_jugador = []\n",
    "\n",
    "\n",
    "# Mostrar mensaje de Bienvenida\n",
    "print ('Bienvenido al Juego, favor ingresa una palabra de 5 letras')\n",
    "\n",
    "# Se limita para que no se pueda ingrsar una palabra de mas de 5 digitos\n",
    "palabra_de_jugador = input('Ingrese palabra de 5 letras')\n",
    "\n"
   ]
  },
  {
   "cell_type": "code",
   "execution_count": null,
   "id": "e2a6f4f5",
   "metadata": {},
   "outputs": [
    {
     "name": "stdout",
     "output_type": "stream",
     "text": [
      "['h', 'o', 'l', 'i', 's']\n",
      "['h', 'e', 'l', 'l', 'o']\n",
      "['h', 'a', 'l', 'l', 'o']\n"
     ]
    }
   ],
   "source": [
    "'''Challenge 6 🤺 - 25m\n",
    "Dada la lista de ejemplo: \n",
    "\n",
    "lista = [['h', 'o', 'l', 'i', 's'], ['h', 'e', 'l', 'l', 'o'], ['h', 'a', 'l', 'l', 'o']]\n",
    "\n",
    "Crear una función que imprima una grilla (lista de listas), una línea por cada lista dentro de la lista principal.\n",
    "\n",
    "Ejemplo del resultado esperado:\n",
    "\n",
    "['h', 'o', 'l', 'i', 's']\n",
    "['h', 'e', 'l', 'l', 'o']\n",
    "['h', 'a', 'l', 'l', 'o']'''\n",
    "\n",
    "#Lista a convertir en grilla\n",
    "lista  = [['h', 'o', 'l', 'i', 's'], ['h', 'e', 'l', 'l', 'o'], ['h', 'a', 'l', 'l', 'o']]\n",
    "\n",
    "#Creo la funcion capaz de hacer esto\n",
    "def listas_en_grilla (lista_convertir_en_grilla):\n",
    "    print(lista_convertir_en_grilla[0]) #Aprovecho las diferentes separaciones que tiene la lista\n",
    "    print(lista_convertir_en_grilla[1])\n",
    "    print(lista_convertir_en_grilla[2])\n",
    "\n",
    "#llamo a la funcion\n",
    "listas_en_grilla(lista)\n",
    "\n",
    "\n",
    "\n",
    "\n",
    "\n",
    "#EJEMPLO DE OTRO COMPA;ERO\n",
    "# #lista dd ejemplo\n",
    "lista_ejemplo = [['h', 'o', 'l', 'i', 's'], ['h', 'e', 'l', 'l', 'o'], ['h', 'a', 'l', 'l', 'o']]\n",
    "\n",
    "# #crear funcion que imprima la lista de listas una linea por cada lista.\n",
    "def imprimir_con_salto(lista_a_imprimir):\n",
    "    for i in lista_a_imprimir:\n",
    "        lista = list(i)\n",
    "        print(lista)\n",
    "\n",
    "imprimir_con_salto(lista_ejemplo)\n",
    "\n",
    "\n",
    "\n"
   ]
  },
  {
   "cell_type": "code",
   "execution_count": null,
   "id": "6c698e8e",
   "metadata": {},
   "outputs": [
    {
     "name": "stdout",
     "output_type": "stream",
     "text": [
      "['h', 'o']\n",
      "(['h', 'o'], list['hol'])\n"
     ]
    }
   ],
   "source": [
    "'''Challenge 5 🤺 - 25m\n",
    "Pedir al usuario que ingrese 1 palabra, luego convertir esa palabra a una lista con sus caracteres con list(). \n",
    "Agregar esa lista de caracteres a una lista llamada palabras_ingresadas. Repetir el proceso 3 veces. Cada vez que se agregue una \n",
    "lista de caracteres, imprimir la lista palabras_ingresadas.\n",
    "\n",
    "\n",
    "Ejemplo del resultado esperado:\n",
    "\n",
    "[['c', 'i', 'e', 'l', 'o']]\n",
    " # Al ingresar la primera palabra\n",
    "\n",
    "[['c', 'i', 'e', 'l', 'o'], ['c', 'a', 'l', 'o', 'r']]\n",
    " # Al ingresar la segunda palabra\n",
    "\n",
    "[['c', 'i', 'e', 'l', 'o'], ['c', 'a', 'l', 'o', 'r'], ['n', 'u', 'b', 'e', 's']]\n",
    " # Al ingresar la tercera palabra'''\n",
    "\n",
    "\n",
    "#Pido al usuario que ingrese una palabra\n",
    "palabra_usuario = input ('Ingrese una palabra') #Aprovevho y creo una variable a traves de este input\n",
    "\n",
    "#Ahora voy a crear la lista por medio de la palabra ingresada\n",
    "palabras_ingresada = list(palabra_usuario) #Aprovecho a crear una nueva variable\n",
    "print(palabras_ingresada) #Hago que se imprima\n",
    "\n",
    "#Pido al usuario que ingrese otra palabra 2x\n",
    "palabra_usuario_2 = input ('Ingrese otra palabra') #Aprovevho y creo una variable a traves de este input\n",
    "\n",
    "#Agrego a la lista anterior\n",
    "lista_de_palabra_ingresada_2 = list[palabra_ingresada_2]\n",
    "\n",
    "# Sumo las listas\n",
    "listas_sumadas = lista_de_palabra_ingresada, lista_de_palabra_ingresada_2 #Creo una variable adicional donde este el resultado de las listas\n",
    "print(listas_sumadas)\n",
    "\n",
    "\n",
    "\n",
    "#Solicion de otro companero (ANALIZAR)\n",
    "palabras_ingresadas = []\n",
    "for i in range(3):\n",
    "    palabra_user = input('Introduce una palabra crack:')\n",
    "    palabra_listeada = list(palabra_user)\n",
    "    palabras_ingresadas.append(palabra_listeada)\n",
    "    print(palabras_ingresadas)\n",
    "\n",
    "\n",
    "#Solicion de otro companero (ANALIZAR)\n",
    "primera_palabra = input('Ingresa una palabra:')\n",
    "convertir_primera_palabra = list(primera_palabra)\n",
    "print([convertir_primera_palabra])\n",
    "\n",
    "segunda_palabra = input('Por favor ingresa otra palabra:')\n",
    "convertir_segunda_palabra = list(segunda_palabra)\n",
    "print([convertir_primera_palabra, convertir_segunda_palabra])\n",
    "\n",
    "tercera_palabra = input('Por favor ingresa otra palabra:')\n",
    "convertir_tercera_palabra = list(tercera_palabra)\n",
    "print([convertir_primera_palabra, convertir_segunda_palabra, convertir_tercera_palabra])\n",
    "\n",
    "\n",
    "palabras_ingresadas = []\n",
    "\n",
    "\n",
    "#Solicion de otro companero (BUENA OPCION)\n",
    "def Conteo():\n",
    "\n",
    "    Palabra_ingresada_usuario = input(\"Pon una palabra\")\n",
    "    palabra_descompuesta = list(Palabra_ingresada_usuario)\n",
    "    palabras_ingresadas.append(palabra_descompuesta)\n",
    "    print(palabras_ingresadas)\n",
    "\n",
    "Conteo()\n",
    "Conteo()\n",
    "Conteo()\n",
    "\n",
    "\n",
    "\n"
   ]
  },
  {
   "cell_type": "code",
   "execution_count": 19,
   "id": "bc08b659",
   "metadata": {},
   "outputs": [
    {
     "data": {
      "text/plain": [
       "True"
      ]
     },
     "execution_count": 19,
     "metadata": {},
     "output_type": "execute_result"
    }
   ],
   "source": [
    "'''Challenge 3 🤺 - 20m MODIFICO PARA QUE PIDA AL USUARIO\n",
    "Crear una función que reciba dos parámetros (una palabra y un número), y que retorne True si el número es igual a la cantidad de letras de la \n",
    "palabra. En caso contrario, que retorne False.\n",
    "\n",
    "Pista: cantidad de letras de una palabra en python'''\n",
    "\n",
    "#Creo el pedido de elementos al usuario\n",
    "palabra = input('Ingrese palabra')\n",
    "numero = int(input('Ingrese un numero'))\n",
    "\n",
    "\n",
    "#Creo la funcion\n",
    "def comparador_de_palabras_y_numeros (palabra,numero):\n",
    "    #creo una variable donde se almacena el numero\n",
    "    cantidad_de_letras = len(palabra) #len es una funcion y me va a permitir contar las letras y convertir eso en un numero\n",
    "    #creo el condicional que va a poder comprobar las letras y el nnmero\n",
    "    if cantidad_de_letras == numero: \n",
    "        return True\n",
    "    else:\n",
    "        return False\n",
    "\n",
    "comparador_de_palabras_y_numeros(palabra, numero)\n"
   ]
  },
  {
   "cell_type": "code",
   "execution_count": 16,
   "id": "f608f8e8",
   "metadata": {},
   "outputs": [
    {
     "data": {
      "text/plain": [
       "False"
      ]
     },
     "execution_count": 16,
     "metadata": {},
     "output_type": "execute_result"
    }
   ],
   "source": [
    "'''Challenge 3 🤺 - 20m\n",
    "Crear una función que reciba dos parámetros (una palabra y un número), y que retorne True si el número es igual a la cantidad de letras de la \n",
    "palabra. En caso contrario, que retorne False.\n",
    "\n",
    "Pista: cantidad de letras de una palabra en python'''\n",
    "\n",
    "\n",
    "\n",
    "#Creo la funcion\n",
    "def comparador_de_palabras_y_numeros (palabra,numero):\n",
    "    #creo una variable donde se almacena el numero\n",
    "    cantidad_de_letras = len(palabra) #len es una funcion y me va a permitir contar las letras y convertir eso en un numero\n",
    "    #creo el condicional que va a poder comprobar las letras y el nnmero\n",
    "    if cantidad_de_letras == numero: \n",
    "        return True\n",
    "    else:\n",
    "        return False\n",
    "\n",
    "comparador_de_palabras_y_numeros('casas',4)\n",
    "\n",
    "    "
   ]
  },
  {
   "cell_type": "code",
   "execution_count": 14,
   "id": "3897b147",
   "metadata": {},
   "outputs": [
    {
     "name": "stdout",
     "output_type": "stream",
     "text": [
      "Letras son diferentes\n"
     ]
    }
   ],
   "source": [
    "#Challenge 2 🤺 - 20 min INTENTO ADICIONAL CON SITUACION DONDE EL USUARIO DE LAS PALABRAS\n",
    "#Crear una función que reciba dos letras (parámetros) y que verifique si son iguales:\n",
    "\n",
    "#Si son iguales, imprimir \"Las letras son iguales\".\n",
    "\n",
    "#De lo contrario, imprimir \"Las letras son diferentes\".\n",
    "\n",
    "\n",
    "#Creo el pedido de los argumentos al usuario\n",
    "letra1 = input('Ingrese una letra')\n",
    "letra2 = input('Ingrese otra letra')\n",
    "\n",
    "# Creo la funcion\n",
    "def verifica_letras_iguales(letra1, letra2):\n",
    "\n",
    "    #creo la condicion que ejecutara la funcion\n",
    "    if letra1 == letra2:\n",
    "        print('Las letras son iguales')\n",
    "    else:\n",
    "        print('Letras son diferentes')\n",
    "\n",
    "#Llamo a la funcion\n",
    "verifica_letras_iguales(letra1,letra2)"
   ]
  },
  {
   "cell_type": "code",
   "execution_count": null,
   "id": "3f609569",
   "metadata": {},
   "outputs": [
    {
     "name": "stdout",
     "output_type": "stream",
     "text": [
      "Las letras son iguales\n"
     ]
    }
   ],
   "source": [
    "#Challenge 2 🤺 - 20 min\n",
    "#Crear una función que reciba dos letras (parámetros) y que verifique si son iguales:\n",
    "\n",
    "#Si son iguales, imprimir \"Las letras son iguales\".\n",
    "\n",
    "#De lo contrario, imprimir \"Las letras son diferentes\".\n",
    "\n",
    "# Creo la funcion\n",
    "def verifica_letras_iguales(letra1, letra2):\n",
    "    #creo la condicion que ejecutara la funcion\n",
    "    if letra1 == letra2:\n",
    "        print('Las letras son iguales')\n",
    "    else:\n",
    "        print('Letras son diferentes')\n",
    "\n",
    "#Llamo a la funcion y asigno argumentos\n",
    "verifica_letras_iguales('b','b')"
   ]
  },
  {
   "cell_type": "code",
   "execution_count": 5,
   "id": "d3f18544",
   "metadata": {},
   "outputs": [
    {
     "name": "stdout",
     "output_type": "stream",
     "text": [
      "Palabra\n"
     ]
    }
   ],
   "source": [
    "# Challenge 1  - 10m\n",
    "# Crear una función que imprima la variable palabra.\n",
    "\n",
    "# Creo la variable\n",
    "variable = 'Palabra'\n",
    "\n",
    "#Creo la funcion\n",
    "def imprimir_variable ():\n",
    "    print(variable)\n",
    "\n",
    "#Llamo a la varibale para que se ejecute\n",
    "imprimir_variable()\n"
   ]
  },
  {
   "cell_type": "code",
   "execution_count": 1,
   "id": "01d98085",
   "metadata": {},
   "outputs": [
    {
     "name": "stdout",
     "output_type": "stream",
     "text": [
      "Hola Mundo\n"
     ]
    }
   ],
   "source": [
    "def imprimir_saludo():\n",
    "    print(\"Hola Mundo\")\n",
    "imprimir_saludo()\n",
    "\n"
   ]
  }
 ],
 "metadata": {
  "kernelspec": {
   "display_name": "Python 3",
   "language": "python",
   "name": "python3"
  },
  "language_info": {
   "codemirror_mode": {
    "name": "ipython",
    "version": 3
   },
   "file_extension": ".py",
   "mimetype": "text/x-python",
   "name": "python",
   "nbconvert_exporter": "python",
   "pygments_lexer": "ipython3",
   "version": "3.13.1"
  }
 },
 "nbformat": 4,
 "nbformat_minor": 5
}
